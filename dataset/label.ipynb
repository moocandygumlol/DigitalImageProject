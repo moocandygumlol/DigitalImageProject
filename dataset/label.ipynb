{
 "cells": [
  {
   "cell_type": "code",
   "execution_count": 1,
   "metadata": {},
   "outputs": [],
   "source": [
    "import os\n",
    "import pandas as pd"
   ]
  },
  {
   "cell_type": "code",
   "execution_count": 3,
   "metadata": {},
   "outputs": [],
   "source": [
    "hard_case = os.listdir(\"./hard_case/\")\n",
    "normal_case = os.listdir(\"./normal_case/\")\n",
    "hard_case_no_gesture = os.listdir(\"./no_gesture_50/\")\n",
    "normal_case_no_gesture = os.listdir(\"./no_gesture_100/\")\n",
    "all_case = os.listdir(\"./test_set/\")"
   ]
  },
  {
   "cell_type": "code",
   "execution_count": 4,
   "metadata": {},
   "outputs": [],
   "source": [
    "h_dict = {\"name\": [], \"label\" : []}\n",
    "n_dict = {\"name\": [], \"label\" : []}\n",
    "a_dict = {\"name\": [], \"label\" : []}"
   ]
  },
  {
   "cell_type": "code",
   "execution_count": 5,
   "metadata": {},
   "outputs": [],
   "source": [
    "for e in hard_case:\n",
    "    h_dict[\"name\"].append(e)\n",
    "    h_dict[\"label\"].append(1)\n",
    "for e in hard_case_no_gesture:\n",
    "    h_dict[\"name\"].append(e)\n",
    "    h_dict[\"label\"].append(0)\n",
    "for e in normal_case:\n",
    "    n_dict[\"name\"].append(e)\n",
    "    n_dict[\"label\"].append(1)\n",
    "for e in normal_case_no_gesture:\n",
    "    n_dict[\"name\"].append(e)\n",
    "    n_dict[\"label\"].append(0)\n",
    "for e in normal_case_no_gesture:\n",
    "    n_dict[\"name\"].append(e)\n",
    "    n_dict[\"label\"].append(0)"
   ]
  },
  {
   "cell_type": "code",
   "execution_count": 9,
   "metadata": {},
   "outputs": [],
   "source": [
    "df_hard = pd.DataFrame(h_dict)\n",
    "df_normal = pd.DataFrame(n_dict)"
   ]
  },
  {
   "cell_type": "code",
   "execution_count": 11,
   "metadata": {},
   "outputs": [],
   "source": [
    "df_hard.to_csv(\"output_hard.csv\", index=False)"
   ]
  },
  {
   "cell_type": "code",
   "execution_count": 12,
   "metadata": {},
   "outputs": [],
   "source": [
    "df_normal.to_csv(\"output_normal.csv\", index=False)"
   ]
  }
 ],
 "metadata": {
  "kernelspec": {
   "display_name": "Python 3",
   "language": "python",
   "name": "python3"
  },
  "language_info": {
   "codemirror_mode": {
    "name": "ipython",
    "version": 3
   },
   "file_extension": ".py",
   "mimetype": "text/x-python",
   "name": "python",
   "nbconvert_exporter": "python",
   "pygments_lexer": "ipython3",
   "version": "3.11.6"
  }
 },
 "nbformat": 4,
 "nbformat_minor": 2
}
